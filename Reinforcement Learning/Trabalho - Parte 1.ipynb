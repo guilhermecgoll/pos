{
 "cells": [
  {
   "cell_type": "markdown",
   "id": "064965cc-8b7f-453d-a818-9c115d01a602",
   "metadata": {},
   "source": [
    "# Aluno: Guilherme Cristiano Goll"
   ]
  },
  {
   "cell_type": "code",
   "execution_count": 1,
   "id": "9fa488f7-547a-4415-89ff-d28d8d46eb48",
   "metadata": {},
   "outputs": [],
   "source": [
    "import numpy as np\n",
    "import timeit\n",
    "import matplotlib.pyplot as plt"
   ]
  },
  {
   "cell_type": "code",
   "execution_count": 2,
   "id": "8cf2fffe-e538-49a2-9bda-8ef8d15ea632",
   "metadata": {},
   "outputs": [],
   "source": [
    "ROWS = 6 #Linhas\n",
    "COLUMNS = 7 #Colunas\n",
    "BASE = [[0,1], [0,3], [0,5]] #Posições próximas à base, onde serão inseridas as recompensas positivas. A posição central tambem receberá recompensa pois pode receber o objeto 'na contramão'.\n",
    "BASE_REWARD = 10 #Recompensa dada à base\n",
    "OBJECT = [[2,2,10], [2,3,'OBJECT'], [2,4,10]] #Posições próximas ao objeto onde serão inseridas as recompensas positivas. A terceira posição trata-se do valor que a célula receberá.\n",
    "OBJECT_REWARD = 10 #Recompensa pela localização do objeto\n",
    "WALL = [[1,3], [4,0], [4,1], [4,3], [4,4], [4,5], [4,6], [5,6]] #Muro/parede/bloco\n",
    "START = [5,0] #Posição inicial\n",
    "MAX_STEPS = 500 #Quantidade máxima de passos\n",
    "EPISODES = 200\n",
    "DEFAULT_REWARD = -1.00\n",
    "EPSILON = 0.9 #Percentual de vezes em que deve-se tomar a melhor ação ao invés de uma ação aleatória\n",
    "DISCOUNT_FACTOR = 0.9 #Fator de desconto para recompensas futurasss\n",
    "LEARNING_RATE = 0.9 #taxa com a qual o agente aprenderá\n",
    "DEBUG = False #Flag que, quando True, gerará uma série de prints na saída do treinamento"
   ]
  },
  {
   "cell_type": "code",
   "execution_count": 3,
   "id": "eec4c25d-536d-4145-8878-4c34d4879072",
   "metadata": {},
   "outputs": [],
   "source": [
    "actions = ['up', 'right', 'down', 'left', 'keep']\n",
    "object_states = ['none', 'left', 'right'] #sem objeto, objeto à equerda e objeto à direita"
   ]
  },
  {
   "cell_type": "code",
   "execution_count": 4,
   "id": "f52d8722-15e2-4fb5-a765-596d15b8a57a",
   "metadata": {},
   "outputs": [],
   "source": [
    "def fill_cells(environment, array, value = None):\n",
    "    '''Preenche as células do `environment` informado com o `value`\n",
    "    ou com a terceira posição do `array`, para cada conjunto de coordenadas\n",
    "    do `array`.'''\n",
    "    for i in array:\n",
    "        val = value\n",
    "        row = i[0]\n",
    "        col = i[1]\n",
    "        if not val:\n",
    "            val = i[2]\n",
    "        environment[row, col] = val\n",
    "\n",
    "def reset_rewards():\n",
    "    '''Reinicia/restaura/recria o estado inicial de recompensas informado\n",
    "    pelo problema.'''\n",
    "    rw = np.full((ROWS, COLUMNS), DEFAULT_REWARD, dtype=object)       \n",
    "    fill_cells(rw, WALL, 'WALL') #preencher os blocos    \n",
    "    fill_cells(rw, OBJECT) #preencher o objeto\n",
    "    \n",
    "    return rw"
   ]
  },
  {
   "cell_type": "code",
   "execution_count": 5,
   "id": "c7c9273d-10e7-4950-b6b0-9e072bfe6475",
   "metadata": {},
   "outputs": [],
   "source": [
    "def get_next_action(row, col, obj_state):\n",
    "    '''Quando um valor escolhido aleatoriamente é inferior ao `EPSILON`\n",
    "    será escolhido o maior valor da tabela q_values. Caso contrário, retorna\n",
    "    uma ação aleatória entre as disponíveis.'''\n",
    "    idx_obj_state = object_states.index(obj_state)\n",
    "    \n",
    "    if np.random.random() < EPSILON:\n",
    "        return np.argmax(q_values[row, col, idx_obj_state])\n",
    "    else:\n",
    "        return np.random.randint(len(actions))"
   ]
  },
  {
   "cell_type": "code",
   "execution_count": 6,
   "id": "7e6db04d-8d70-467a-bb54-964ec97be03d",
   "metadata": {},
   "outputs": [],
   "source": [
    "def get_next_location(row, col, obj_state, action_index):\n",
    "    '''Retorna o próximo conjunto de coordenadas para o agente, dadas as\n",
    "    coordenadas atuais do mesmo (row, col) e a direção escolhida (action_index).\n",
    "    Também verifica e retorna se há algum objeto ou fim do board, seja para o agente,\n",
    "    seja para o objeto (quando o agente estiver carregando-o).'''\n",
    "    next_row = row\n",
    "    next_col = col\n",
    "    obj_found = None\n",
    "    \n",
    "    #primeiro calcula e verifica a nova posição para o agente\n",
    "    if actions[action_index] == 'up':\n",
    "        if row > 0:\n",
    "            next_row -= 1\n",
    "        else:\n",
    "            obj_found = 'END OF BOARD'\n",
    "    elif actions[action_index] == 'right':\n",
    "        if col < COLUMNS - 1:\n",
    "            next_col += 1\n",
    "        else:\n",
    "            obj_found = 'END OF BOARD'\n",
    "    elif actions[action_index] == 'down': \n",
    "        if row < ROWS - 1:\n",
    "            next_row += 1\n",
    "        else:\n",
    "            obj_found = 'END OF BOARD'\n",
    "    elif actions[action_index] == 'left':\n",
    "        if col > 0:\n",
    "            next_col -= 1\n",
    "        else:\n",
    "            obj_found = 'END OF BOARD'\n",
    "    #posição 'keep' não altera 'row' nem 'col'\n",
    "    \n",
    "    if not obj_found and type(rewards[next_row, next_col]) == str: #significa que encontrou uma parede ou objeto\n",
    "        obj_found = rewards[next_row, next_col]\n",
    "    \n",
    "    #Depois verifica a nova posição para o objeto (quando estiver em posse do agente)\n",
    "    if not obj_found and obj_state != 'none':\n",
    "        obj_row = next_row\n",
    "        obj_col = next_col\n",
    "        if obj_state == 'right' and next_col < COLUMNS - 1:\n",
    "            obj_col += 1\n",
    "        elif obj_state == 'left' and next_col > 0:\n",
    "            obj_col -= 1\n",
    "            \n",
    "        if type(rewards[obj_row, obj_col]) == str: #significa que encontrou uma parede ou objeto\n",
    "            obj_found = rewards[obj_col, obj_col]\n",
    "    \n",
    "    return next_row, next_col, obj_found"
   ]
  },
  {
   "cell_type": "code",
   "execution_count": 7,
   "id": "9c298930-8218-44c0-bc78-14165c59fe1d",
   "metadata": {},
   "outputs": [],
   "source": [
    "def has_object_around(current_row, current_col):\n",
    "    '''Se encontrar o objeto à direita ou à esquerda, retorna a direção indicando o mesmo'''\n",
    "    col_left = current_col - 1\n",
    "    col_right = current_col + 1    \n",
    "    direction = 'none'\n",
    "    \n",
    "    if col_left >= 0 and rewards[current_row, col_left] == 'OBJECT':\n",
    "        direction = 'left'\n",
    "    elif col_right <= (COLUMNS - 1) and rewards[current_row, col_right] == 'OBJECT':\n",
    "        direction = 'right'\n",
    "    \n",
    "    return direction"
   ]
  },
  {
   "cell_type": "code",
   "execution_count": 8,
   "id": "203e540c-a144-48c8-b383-ece0cbc6402b",
   "metadata": {
    "tags": []
   },
   "outputs": [],
   "source": [
    "def is_terminal_state(row, col, obj_state):\n",
    "    '''Retorna o indicativo True quando o agente tiver encontrado o fim\n",
    "    do board e estiver em posse do objeto. Caso contrário, retorna False.'''\n",
    "    if obj_state != 'none' and rewards[row, col] == BASE_REWARD:\n",
    "        return True\n",
    "    else:\n",
    "        return False"
   ]
  },
  {
   "cell_type": "code",
   "execution_count": 9,
   "id": "9433b2e6-1934-48e5-bd3b-4ab328421e7f",
   "metadata": {},
   "outputs": [
    {
     "name": "stdout",
     "output_type": "stream",
     "text": [
      "[[-1.0 -1.0 -1.0 -1.0 -1.0 -1.0 -1.0]\n",
      " [-1.0 -1.0 -1.0 'WALL' -1.0 -1.0 -1.0]\n",
      " [-1.0 -1.0 10 'OBJECT' 10 -1.0 -1.0]\n",
      " [-1.0 -1.0 -1.0 -1.0 -1.0 -1.0 -1.0]\n",
      " ['WALL' 'WALL' -1.0 'WALL' 'WALL' 'WALL' 'WALL']\n",
      " [-1.0 -1.0 -1.0 -1.0 -1.0 -1.0 'WALL']]\n"
     ]
    }
   ],
   "source": [
    "#q_values armazena os valores de cada par estado, ação Q (s, a)\n",
    "q_values = np.zeros((ROWS, COLUMNS, len(object_states), len(actions)))\n",
    "\n",
    "rewards = reset_rewards()\n",
    "print(rewards)"
   ]
  },
  {
   "cell_type": "code",
   "execution_count": 10,
   "id": "2d5306e8-15be-463c-9e87-dad5c0acc249",
   "metadata": {},
   "outputs": [
    {
     "name": "stdout",
     "output_type": "stream",
     "text": [
      "Encontrei um path melhor: 91\n",
      "Encontrei um path melhor: 52\n",
      "Encontrei um path melhor: 10\n",
      "Encontrei um path melhor: 9\n",
      "\n",
      "Tempo total para execução do treinamento (em segundos): 0.07658100000000001\n"
     ]
    }
   ],
   "source": [
    "start_time = timeit.default_timer()\n",
    "\n",
    "best_path = None\n",
    "path_per_episode = []\n",
    "path_per_episode_index = []\n",
    "for episode in range(EPISODES):\n",
    "    row_index, column_index = START[0], START[1]\n",
    "    timestep = 0\n",
    "    path = []\n",
    "    obj_state = 'none'\n",
    "    rewards = reset_rewards()\n",
    "    if best_path and DEBUG:\n",
    "        print('Melhor path até o momento:', len(best_path))\n",
    "    while timestep < MAX_STEPS:\n",
    "        path.append([row_index, column_index])\n",
    "        if is_terminal_state(row_index, column_index, obj_state):\n",
    "            break\n",
    "        \n",
    "        if DEBUG:\n",
    "            print('Posição atual:', row_index, column_index, obj_state)\n",
    "        if obj_state == 'none':\n",
    "            obj_state = has_object_around(row_index, column_index)\n",
    "            if obj_state != 'none':\n",
    "                if DEBUG:\n",
    "                    print('Encontrou o objeto:', obj_state)\n",
    "                fill_cells(rewards, BASE, BASE_REWARD) #atualizo a recompensa das posições da base apenas após encontrar o objeto, para não estimular o caminho final antes do necessário\n",
    "                fill_cells(rewards, OBJECT, DEFAULT_REWARD) #inputo penalidade às posições próximas ao objeto para desistimular este caminho daqui para frente\n",
    "        \n",
    "        action_index = get_next_action(row_index, column_index, obj_state)\n",
    "        old_row_index, old_column_index = row_index, column_index\n",
    "        row_index, column_index, obj_found = get_next_location(row_index, column_index, obj_state, action_index)\n",
    "        if obj_found:\n",
    "            #força o agente a permenecer no local em que está quando encontrar um objeto/fim do mapa\n",
    "            row_index, column_index, action_index = old_row_index, old_column_index, actions.index('keep')\n",
    "        \n",
    "        #Aqui faço a movimentação entre os estados 'sem objeto', 'obj. à esquerda' ou 'obj. à direita'\n",
    "        obj_state_index = object_states.index(obj_state)\n",
    "        \n",
    "        reward = rewards[row_index, column_index]\n",
    "        old_q_value = q_values[old_row_index, old_column_index, obj_state_index, action_index]\n",
    "        temporal_difference = reward + (DISCOUNT_FACTOR * np.max(q_values[row_index, column_index, obj_state_index])) - old_q_value        \n",
    "        \n",
    "        new_q_value = old_q_value + (LEARNING_RATE * temporal_difference)\n",
    "        q_values[old_row_index, old_column_index, obj_state_index, action_index] = new_q_value\n",
    "        \n",
    "        if DEBUG:\n",
    "            print('Próxima direção:', actions[action_index])\n",
    "            \n",
    "        timestep += 1\n",
    "    \n",
    "    path_per_episode.append(len(path))\n",
    "    path_per_episode_index.append([episode,len(path)])\n",
    "    if not best_path or len(path) < len(best_path):\n",
    "        print('Encontrei um path melhor:', len(path))\n",
    "        best_path = path\n",
    "\n",
    "elapsed = timeit.default_timer() - start_time\n",
    "print('')\n",
    "print('Tempo total para execução do treinamento (em segundos):', elapsed)"
   ]
  },
  {
   "cell_type": "code",
   "execution_count": 11,
   "id": "60bada58-ff54-4c9d-be3f-90ae1565448c",
   "metadata": {},
   "outputs": [
    {
     "name": "stdout",
     "output_type": "stream",
     "text": [
      "O melhor caminho encontrado/ solução ótima é: [[5, 0], [5, 1], [5, 2], [4, 2], [3, 2], [2, 2], [2, 1], [1, 1], [0, 1]]\n"
     ]
    }
   ],
   "source": [
    "print('O melhor caminho encontrado/ solução ótima é:', best_path)"
   ]
  },
  {
   "cell_type": "markdown",
   "id": "037f3241-e7ac-4313-b0ab-40e9acf707f3",
   "metadata": {},
   "source": [
    "# 3.a) Curva de convergência, representada pela quantidade de passos (timesteps) necessários para resolver a tarefa ao longo do tempo (episódios)."
   ]
  },
  {
   "cell_type": "code",
   "execution_count": 12,
   "id": "71159572-ad4f-447f-b91a-fa40cb379ca8",
   "metadata": {},
   "outputs": [
    {
     "data": {
      "text/plain": [
       "Text(0.5, 0, 'Episodes')"
      ]
     },
     "execution_count": 12,
     "metadata": {},
     "output_type": "execute_result"
    },
    {
     "data": {
      "image/png": "[encoded data removed]",
      "text/plain": [
       "<Figure size 1152x720 with 1 Axes>"
      ]
     },
     "metadata": {
      "needs_background": "light"
     },
     "output_type": "display_data"
    }
   ],
   "source": [
    "(fig, ax) = plt.subplots(nrows=1, ncols=1, figsize=(16, 10))\n",
    "\n",
    "ax.plot(path_per_episode)\n",
    "ax.set_title('Timesteps x Episode')\n",
    "ax.set_ylabel('Timesteps')\n",
    "ax.set_xlabel('Episodes')"
   ]
  },
  {
   "cell_type": "markdown",
   "id": "2b3083bf-2c7a-46e7-bb52-4c41035b9c98",
   "metadata": {},
   "source": [
    "# Conclusão\n",
    "\n",
    "Após treinar o modelo, o melhor caminho encontrado conta com **8 passos**. Obs: o tamanho da lista `path` é 9 pois a posição inicial também está sendo registrada."
   ]
  }
 ],
 "metadata": {
  "kernelspec": {
   "display_name": "Python 3",
   "language": "python",
   "name": "python3"
  },
  "language_info": {
   "codemirror_mode": {
    "name": "ipython",
    "version": 3
   },
   "file_extension": ".py",
   "mimetype": "text/x-python",
   "name": "python",
   "nbconvert_exporter": "python",
   "pygments_lexer": "ipython3",
   "version": "3.8.8"
  }
 },
 "nbformat": 4,
 "nbformat_minor": 5
}
