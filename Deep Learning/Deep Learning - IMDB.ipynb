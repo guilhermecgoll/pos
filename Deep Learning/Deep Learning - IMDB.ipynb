{
 "cells": [
  {
   "cell_type": "markdown",
   "id": "94471057",
   "metadata": {},
   "source": [
    "### Classificação de textos para análise de sentimentos\n",
    "\n",
    "### Aluno: Guilherme Cristiano Goll"
   ]
  },
  {
   "cell_type": "code",
   "execution_count": 1,
   "id": "a80224ad",
   "metadata": {
    "ExecuteTime": {
     "end_time": "2021-06-10T00:44:12.514627Z",
     "start_time": "2021-06-10T00:44:12.509125Z"
    }
   },
   "outputs": [],
   "source": [
    "from torchtext import datasets\n",
    "import torchtext\n",
    "import torch\n",
    "import torch.optim as optim\n",
    "import torch.nn as nn\n",
    "import torch.nn.functional as F\n",
    "from torch.nn.utils.rnn import pack_padded_sequence, pad_packed_sequence\n",
    "from torch.utils.data import TensorDataset\n",
    "from torch.utils.data import DataLoader\n",
    "from torchtext.legacy import data\n",
    "import numpy as np\n",
    "import pandas as pd\n",
    "import matplotlib.pyplot as plt\n",
    "import nltk\n",
    "from nltk.corpus import stopwords\n",
    "from nltk.tokenize import sent_tokenize, word_tokenize, RegexpTokenizer\n",
    "from nltk.stem import PorterStemmer\n",
    "from sklearn.feature_extraction.text import CountVectorizer, TfidfVectorizer\n",
    "from sklearn.metrics import accuracy_score, classification_report, confusion_matrix,  precision_recall_fscore_support\n",
    "from sklearn.model_selection import train_test_split\n",
    "from sklearn.preprocessing import OneHotEncoder, LabelEncoder\n",
    "import seaborn as sns"
   ]
  },
  {
   "cell_type": "code",
   "execution_count": 2,
   "id": "6ffccdf8-91e4-473c-8261-0c69e0ad89ee",
   "metadata": {},
   "outputs": [
    {
     "name": "stdout",
     "output_type": "stream",
     "text": [
      "Versão do Pytorch 1.8.1+cu111\n",
      "Versão do torchtext 0.9.1\n"
     ]
    }
   ],
   "source": [
    "print('Versão do Pytorch', torch.__version__)\n",
    "print('Versão do torchtext', torchtext.__version__)"
   ]
  },
  {
   "cell_type": "code",
   "execution_count": 3,
   "id": "f5d8776a-b7da-481d-9d7b-3810081481ba",
   "metadata": {},
   "outputs": [
    {
     "data": {
      "text/plain": [
       "<torch._C.Generator at 0x1bc807adc70>"
      ]
     },
     "execution_count": 3,
     "metadata": {},
     "output_type": "execute_result"
    }
   ],
   "source": [
    "SEED = 43\n",
    "\n",
    "torch.manual_seed(SEED)"
   ]
  },
  {
   "cell_type": "code",
   "execution_count": 4,
   "id": "907e3626",
   "metadata": {
    "ExecuteTime": {
     "end_time": "2021-06-10T00:50:27.424355Z",
     "start_time": "2021-06-10T00:49:16.448387Z"
    }
   },
   "outputs": [],
   "source": [
    "train_iter, test_iter = datasets.IMDB()"
   ]
  },
  {
   "cell_type": "code",
   "execution_count": 5,
   "id": "dd27a9e3-1b7b-4b87-8f3e-153ec68e7b5e",
   "metadata": {},
   "outputs": [
    {
     "data": {
      "text/plain": [
       "'cuda'"
      ]
     },
     "execution_count": 5,
     "metadata": {},
     "output_type": "execute_result"
    }
   ],
   "source": [
    "device = ('cuda' if torch.cuda.is_available() else 'cpu')\n",
    "device"
   ]
  },
  {
   "cell_type": "markdown",
   "id": "823038fb-c557-4425-9fc9-c47f56bba84e",
   "metadata": {},
   "source": [
    "Ao invés de trabalhar com os cursores iterativos `train_iter` e `test_iter`, transformei ambos em `Numpy.array` e em seguida em um `Pandas.DataFrame`, que torna a leitura e manipulação dos dados mais simples.\n",
    "\n",
    "Obs: este procedimento é relativamente _lento_."
   ]
  },
  {
   "cell_type": "code",
   "execution_count": 6,
   "id": "6b99f748-9109-4fe4-a184-8ab8643167bd",
   "metadata": {},
   "outputs": [],
   "source": [
    "df_train = np.array(train_iter)\n",
    "df_train = pd.DataFrame(df_train, columns=['sentiment', 'review'])\n",
    "\n",
    "df_test = np.array(test_iter)\n",
    "df_test = pd.DataFrame(df_test, columns=['sentiment', 'review'])"
   ]
  },
  {
   "cell_type": "code",
   "execution_count": 7,
   "id": "9279e16f-217d-4bb9-bfbc-a98afcb5f2c3",
   "metadata": {},
   "outputs": [],
   "source": [
    "def distribution(df, column, title_sufix: str=None):\n",
    "    '''\n",
    "    Plota a distribuição da coluna em um gráfico de barras horizontal.\n",
    "    '''\n",
    "    fig, ax = plt.subplots(figsize=(16,9))\n",
    "    grouped = df[column].value_counts().sort_values(ascending=True)\n",
    "\n",
    "    df_grouped = grouped.to_frame()\n",
    "    df_grouped.reset_index(level=0, inplace=True)\n",
    "    df_grouped.columns = ['item', 'count']\n",
    "    labels = df_grouped['item'].astype(str)\n",
    "    values = df_grouped['count']\n",
    "\n",
    "    ax.clear()\n",
    "    ax.barh(labels, values, alpha=0.75)\n",
    "    for i, (value, name) in enumerate(zip(values, labels)):\n",
    "        ax.text(value, i, value, size=12, ha='left', va='center')\n",
    "\n",
    "    ax.tick_params(axis='x', colors='#777777', labelsize=12)\n",
    "    ax.margins(0.003, 0.01)\n",
    "    ax.grid(which='major', axis='x', linestyle='-')\n",
    "    ax.set_axisbelow(True)\n",
    "    \n",
    "    title = 'Distribuição de classes'\n",
    "    if title_sufix is not None:\n",
    "        title = f'{title} no conjunto de {title_sufix}'\n",
    "        \n",
    "    ax.set_title(title)"
   ]
  },
  {
   "cell_type": "markdown",
   "id": "45960659-08d3-4183-b1fb-a6c42196462e",
   "metadata": {},
   "source": [
    "Após a leitura e transformação inicial do conjunto de dados, verificamos através do gráfico a seguir a distribuição dos registros no conjunto de treino.\n",
    "\n",
    "Felizmente, os dados estão balanceados, o que auxilia na redução do viés ao treinar e testar o modelo, mais a frente."
   ]
  },
  {
   "cell_type": "code",
   "execution_count": 8,
   "id": "d0fc3214-4c2a-4027-a78a-061407c86f1e",
   "metadata": {},
   "outputs": [
    {
     "data": {
      "image/png": "[encoded data removed]",
      "text/plain": [
       "<Figure size 1152x648 with 1 Axes>"
      ]
     },
     "metadata": {
      "needs_background": "light"
     },
     "output_type": "display_data"
    }
   ],
   "source": [
    "distribution(df_train, 'sentiment', 'treino')"
   ]
  },
  {
   "cell_type": "markdown",
   "id": "3472844a-9b51-493c-bfee-98528082f1d8",
   "metadata": {},
   "source": [
    "# Pré-tratamento dos dados\n",
    "\n",
    "Antes de iniciar a aplicação de algoritmos de ML para classificação dos dados, por se tratar de um conjunto de dados textual serão aplicados alguns tratamentos no texto.\n",
    "\n",
    "Em especial, serão removidas as _stopwords_ e a pontuação em geral, e é aplicada a técnica _stem_."
   ]
  },
  {
   "cell_type": "code",
   "execution_count": 9,
   "id": "a1498d97-0845-4bb2-9f16-5bf5dfc8fc23",
   "metadata": {},
   "outputs": [
    {
     "name": "stderr",
     "output_type": "stream",
     "text": [
      "[nltk_data] Downloading package stopwords to\n",
      "[nltk_data]     C:\\Users\\guilh\\AppData\\Roaming\\nltk_data...\n",
      "[nltk_data]   Package stopwords is already up-to-date!\n",
      "[nltk_data] Downloading package vader_lexicon to\n",
      "[nltk_data]     C:\\Users\\guilh\\AppData\\Roaming\\nltk_data...\n",
      "[nltk_data]   Package vader_lexicon is already up-to-date!\n"
     ]
    },
    {
     "data": {
      "text/plain": [
       "True"
      ]
     },
     "execution_count": 9,
     "metadata": {},
     "output_type": "execute_result"
    }
   ],
   "source": [
    "nltk.download('stopwords')\n",
    "nltk.download('vader_lexicon')"
   ]
  },
  {
   "cell_type": "code",
   "execution_count": 10,
   "id": "6f8b4db7-9f87-4691-81b9-476395a35449",
   "metadata": {},
   "outputs": [],
   "source": [
    "def normalize_df(df, index: int=1, remove_punc: bool=True):\n",
    "    '''Realiza a limpeza e normalização do dataframe: remoção de stopwords e \n",
    "    pontuação, e aplicação de stem\n",
    "    df -> dataframe que será normalizado\n",
    "    index -> índice da coluna que será normalizada (aquela que contém o \n",
    "    texto). Default é 1\n",
    "    remove_punc -> Deve remover a pontuação? Padrão é True\n",
    "    '''\n",
    "    ps = PorterStemmer()\n",
    "    t_df = df.copy()\n",
    "    stop_words=set(stopwords.words(\"english\"))\n",
    "    tokenizer = RegexpTokenizer(r'\\w+')\n",
    "    \n",
    "    def normalize(text: str):        \n",
    "        final_sent = []\n",
    "        if remove_punc:\n",
    "            tokenized_words = tokenizer.tokenize(text)\n",
    "            for word in tokenized_words:\n",
    "                if word not in stop_words:\n",
    "                    stemmed_word = ps.stem(word)\n",
    "                    final_sent.append(' ' + stemmed_word)\n",
    "        else:\n",
    "            tokenized_sent = sent_tokenize(text.strip())\n",
    "            for sent in tokenized_sent:\n",
    "                tokenized_words = word_tokenize(sent)\n",
    "                for word in tokenized_words:\n",
    "                    if word not in stop_words:\n",
    "                        stemmed_word = ps.stem(word)\n",
    "                        final_sent.append(' ' + stemmed_word)\n",
    "            \n",
    "        \n",
    "        return ''.join(final_sent)\n",
    "    \n",
    "    for idx in range(len(t_df)):\n",
    "        t_df.iat[idx, index] = normalize(t_df.iloc[idx, index])\n",
    "        if (idx + 1) % 5000 == 0:\n",
    "            print(f'{idx + 1} documentos normalizados')\n",
    "    \n",
    "    return t_df"
   ]
  },
  {
   "cell_type": "code",
   "execution_count": 11,
   "id": "6af96590-8918-467f-afc9-0b2e563e892d",
   "metadata": {},
   "outputs": [
    {
     "name": "stdout",
     "output_type": "stream",
     "text": [
      "5000 documentos normalizados\n",
      "10000 documentos normalizados\n",
      "15000 documentos normalizados\n",
      "20000 documentos normalizados\n",
      "25000 documentos normalizados\n"
     ]
    }
   ],
   "source": [
    "df_train_normalized = normalize_df(df_train, remove_punc=True)"
   ]
  },
  {
   "cell_type": "markdown",
   "id": "1854395f-dc9a-489f-8a1b-e904661be187",
   "metadata": {
    "tags": []
   },
   "source": [
    "## Word Embedding"
   ]
  },
  {
   "cell_type": "markdown",
   "id": "e350b0fa-c407-4747-9a0b-17d72cc8054d",
   "metadata": {
    "tags": []
   },
   "source": [
    "O Word Embedding é um processo de transformação de palavras/ texto em números.\n",
    "\n",
    "Após realizar a limpeza dos dados no conjunto de treino completo, vamos transformá-lo em números utilizando o `TfIdfVectorizer`. O __TF-IDF__ mede estatisticamente a relevância de uma palavra (ou N-grams) junto a um conjunto de documentos, multiplicando a frequência da palavra no documento (__TF__) pela frequência inversa das palavras em um conjunto de documentos (__IDF__)."
   ]
  },
  {
   "cell_type": "code",
   "execution_count": 12,
   "id": "357f7be5-bad2-4c54-961c-633b79b7e15e",
   "metadata": {},
   "outputs": [],
   "source": [
    "#Separação das features (X) e variável predita (y)\n",
    "X, y = df_train_normalized['review'], df_train_normalized['sentiment']"
   ]
  },
  {
   "cell_type": "markdown",
   "id": "38c143d9-8290-4cfe-83f1-3800337ca502",
   "metadata": {
    "tags": []
   },
   "source": [
    "__IMPORTANTE__: o enunciado deste problema nos fornece dois conjuntos de dados: treino e teste. No entanto, o conjunto de treino será sub-dividido durante o treinamento do modelo para fins de treino e teste (aferição inicial dos resultados). Em seguida, o conjunto original de teste será utilizado para __validação__, que também deve exibir a acurácia do modelo sob este conjunto de dados."
   ]
  },
  {
   "cell_type": "code",
   "execution_count": 13,
   "id": "882a5237-db2b-41a1-97f7-dcc25081f0d6",
   "metadata": {},
   "outputs": [],
   "source": [
    "X_train, X_test, y_train, y_test = train_test_split(X, y, train_size=0.7, random_state=SEED, stratify=y)"
   ]
  },
  {
   "cell_type": "markdown",
   "id": "6251e4ec-5355-40b7-ae9b-8cc02cdfcd45",
   "metadata": {
    "tags": []
   },
   "source": [
    "Após dividir o conjunto inicial de treino, para treino e teste, será montado o vocabulário. Ele consiste numa lista de palavras, bi-gramas e tri-gramas (conjuntos de duas e três palavras respectivamente), que será transformado em números.\n",
    "\n",
    "Porém, serão utilizadas apenas as palavras/n-gramas que tenham uma frequência relevante para os dados avaliados.\n",
    "\n",
    "Este conjunto será a base para comparação textual e treinamento do modelo, logo, ele será a principal _feature_ do modelo."
   ]
  },
  {
   "cell_type": "code",
   "execution_count": 14,
   "id": "c2c0adb3-2db3-432d-b7f9-e8109b5b481a",
   "metadata": {
    "tags": []
   },
   "outputs": [
    {
     "name": "stdout",
     "output_type": "stream",
     "text": [
      "Tamanho final do vocabulário 2558\n"
     ]
    }
   ],
   "source": [
    "from collections import Counter\n",
    "\n",
    "vocabulary = set([])\n",
    "for _class in np.unique(df_train_normalized['sentiment']):\n",
    "    words = []\n",
    "    bigrams = []\n",
    "    trigrams = []\n",
    "    df_words = dict()\n",
    "    df_bigrams = dict()\n",
    "    df_trigrams = dict()\n",
    "    doc_frequency = 0\n",
    "    \n",
    "    for line in df_train_normalized[df_train_normalized['sentiment'] == _class]['review'].values:\n",
    "        doc_words = []\n",
    "        doc_bigrams = []\n",
    "        doc_trigrams = []\n",
    "        doc_frequency += 1\n",
    "        \n",
    "        line_text = line.split(' ')\n",
    "        for idx, word in enumerate(line_text):\n",
    "            doc_words.append(word)\n",
    "            if idx > 0:\n",
    "                doc_bigrams.append(f'{line_text[idx - 1]} {line_text[idx]}')\n",
    "            if idx > 1:\n",
    "                doc_trigrams.append(f'{line_text[idx - 2]} {line_text[idx - 1]} {line_text[idx]}')\n",
    "        \n",
    "        words.extend(doc_words)\n",
    "        for d_w in set(doc_words):\n",
    "            if d_w in df_words:\n",
    "                df_words[d_w] += 1\n",
    "            else:\n",
    "                df_words[d_w] = 1\n",
    "                \n",
    "        bigrams.extend(doc_bigrams)\n",
    "        for d_b in set(doc_bigrams):\n",
    "            if d_b in df_bigrams:\n",
    "                df_bigrams[d_b] += 1\n",
    "            else:\n",
    "                df_bigrams[d_b] = 1\n",
    "        \n",
    "        trigrams.extend(doc_trigrams)\n",
    "        for d_t in set(doc_trigrams):\n",
    "            if d_t in df_trigrams:\n",
    "                df_trigrams[d_t] += 1\n",
    "            else:\n",
    "                df_trigrams[d_t] = 1\n",
    "    \n",
    "    size1 = max(2, int(doc_frequency * 0.01))\n",
    "    size2 = max(2, int(doc_frequency * 0.01))\n",
    "    size3 = max(2, int(doc_frequency * 0.01))\n",
    "    \n",
    "    c1 = Counter(words)\n",
    "    c2 = Counter(bigrams)\n",
    "    c3 = Counter(trigrams)\n",
    "    words = [word[0] for word in c1.most_common() if df_words[word[0]] >= size1]\n",
    "    bigrams = [bigram[0] for bigram in c2.most_common() if df_bigrams[bigram[0]] >= size2]\n",
    "    trigrams = [trigram[0] for trigram in c3.most_common() if df_trigrams[trigram[0]] >= size3]\n",
    "    vocabulary |= set(words)\n",
    "    vocabulary |= set(bigrams)\n",
    "    vocabulary |= set(trigrams)\n",
    "\n",
    "print('Tamanho final do vocabulário', len(vocabulary))"
   ]
  },
  {
   "cell_type": "markdown",
   "id": "d1aef993-fcd3-4129-a410-21a39fee0648",
   "metadata": {
    "tags": []
   },
   "source": [
    "A seguir é realizado o 'treinamento', utilizando o conjunto __completo__, e as transformação dos sub-conjuntos utilizando as respectivas parcelas dos dados (treino e teste)."
   ]
  },
  {
   "cell_type": "code",
   "execution_count": 15,
   "id": "3086518d-7ae8-4a2b-a813-ccf3c4da0ae9",
   "metadata": {},
   "outputs": [],
   "source": [
    "tfidf_vectorizer = TfidfVectorizer(ngram_range=(1, 3), use_idf=True, vocabulary=vocabulary)\n",
    "tfidf_vectorizer.fit(X.to_numpy())\n",
    "\n",
    "train_review_tf = tfidf_vectorizer.transform(X_train.to_numpy()).toarray()\n",
    "test_review_tf = tfidf_vectorizer.transform(X_test.to_numpy()).toarray()"
   ]
  },
  {
   "cell_type": "markdown",
   "id": "700284f9-5bb7-4268-87a3-14450a60160e",
   "metadata": {
    "tags": []
   },
   "source": [
    "A saída abaixo representa as dimensões das features (17500 linhas por 2558 colunas)."
   ]
  },
  {
   "cell_type": "code",
   "execution_count": 16,
   "id": "86ac0951-91f5-4d6d-bd92-a5e6c1e882ec",
   "metadata": {},
   "outputs": [
    {
     "data": {
      "text/plain": [
       "(17500, 2558)"
      ]
     },
     "execution_count": 16,
     "metadata": {},
     "output_type": "execute_result"
    }
   ],
   "source": [
    "train_review_tf.shape"
   ]
  },
  {
   "cell_type": "markdown",
   "id": "457ad38c-5dc0-46a8-8169-f6108e7b3043",
   "metadata": {
    "tags": []
   },
   "source": [
    "Uma vez realizada a transformação da parte textual semântica (review) do dataset, também é necessário aplicar um tratamento especial à variável predita: _sentiment_. Isto porque ela é do tipo texto. Para tratá-la, a mesma será transformada em uma variável categória numérica (0 e 1), utilizando o `LabelEncoder`, embora também seja possível utilizar o `LabelBinarizer`."
   ]
  },
  {
   "cell_type": "code",
   "execution_count": 17,
   "id": "c2c31152-88ac-4116-b4dc-e392ec1395fc",
   "metadata": {
    "tags": []
   },
   "outputs": [],
   "source": [
    "le = LabelEncoder()\n",
    "le_y_train = le.fit_transform(y_train)\n",
    "le_y_test = le.transform(y_test)"
   ]
  },
  {
   "cell_type": "markdown",
   "id": "45ea381c-ce3e-4c52-9486-099f734ae07f",
   "metadata": {
    "tags": []
   },
   "source": [
    "Agora, contando com as _features_ e saídas respectivamente codificadas, as mesmas serão transformadas em um tensor do PyTorch."
   ]
  },
  {
   "cell_type": "code",
   "execution_count": 18,
   "id": "49b0e132-cbef-4d17-b431-f609d10046cb",
   "metadata": {},
   "outputs": [],
   "source": [
    "X_train, X_test, y_train, y_test = map(\n",
    "    torch.tensor, (train_review_tf, test_review_tf, le_y_train, le_y_test)\n",
    ")"
   ]
  },
  {
   "cell_type": "code",
   "execution_count": 19,
   "id": "b866fb3c-6533-44b0-ab7b-b45bd9f288da",
   "metadata": {
    "tags": []
   },
   "outputs": [],
   "source": [
    "input_size = X_train.shape[1]\n",
    "output_size = len(y.unique())\n",
    "bs = 500 #batch size"
   ]
  },
  {
   "cell_type": "markdown",
   "id": "904e182e-58d0-45fc-a919-151cf0a14f8f",
   "metadata": {},
   "source": [
    "Por fim, os sub-conjuntos de treino e teste serão inseridos em objetos do tipo `DataLoader`, uma abstração do PyTorch que facilita as iterações (épocas) e a utilização do _batch size_."
   ]
  },
  {
   "cell_type": "code",
   "execution_count": 20,
   "id": "4c4855b3-d40c-4584-9ca2-880287b604ae",
   "metadata": {},
   "outputs": [],
   "source": [
    "drop_last = False\n",
    "\n",
    "if X_train.size(0) % bs > 0:\n",
    "    print('ATENÇÃO: como a quantidade de linhas do conjunto de treino não é divisível pelo batch size informado,',\n",
    "          'o modelo irá ignorar o último batch de dados')\n",
    "    drop_last = True\n",
    "\n",
    "train_ds = TensorDataset(X_train, y_train)\n",
    "train_dl = DataLoader(train_ds, batch_size=bs, shuffle=True, drop_last=drop_last)\n",
    "test_ds = TensorDataset(X_test, y_test)\n",
    "test_dl = DataLoader(test_ds, batch_size=bs, drop_last=drop_last)"
   ]
  },
  {
   "cell_type": "markdown",
   "id": "11e0479f-4f6a-433d-8f72-dec63b52e3b5",
   "metadata": {},
   "source": [
    "# Treinamento do modelo\n",
    "\n",
    "O modelo abaixo é do tipo *LSTM*."
   ]
  },
  {
   "cell_type": "code",
   "execution_count": 21,
   "id": "ec90c2d7-57e4-4236-820e-237b85d40e3b",
   "metadata": {
    "tags": []
   },
   "outputs": [],
   "source": [
    "def acc(pred, label):\n",
    "    '''Verifica a acurária das predições realizadas'''\n",
    "    pred = torch.round(pred.squeeze())\n",
    "    return torch.sum(pred == label.squeeze()).item()"
   ]
  },
  {
   "cell_type": "code",
   "execution_count": 22,
   "id": "5fdd7bc9-d244-4775-9414-1dee31e6d2c5",
   "metadata": {
    "tags": []
   },
   "outputs": [],
   "source": [
    "class LSTM(nn.Module):\n",
    "    def __init__(self, no_layers, hidden_dim, input_size, output_size, drop_prob=0.5):\n",
    "        super(LSTM, self).__init__() \n",
    "        self.output_dim = output_size\n",
    "        self.hidden_dim = hidden_dim \n",
    "        self.no_layers = no_layers\n",
    "        \n",
    "        self.lstm = nn.LSTM(input_size=input_size,\n",
    "                            hidden_size=self.hidden_dim,\n",
    "                            num_layers=no_layers, \n",
    "                            batch_first=True).double()        \n",
    "        \n",
    "        self.dropout = nn.Dropout(0.3)\n",
    "        \n",
    "        self.fc = nn.Linear(self.hidden_dim, self.output_dim)\n",
    "        self.sig = nn.Sigmoid()\n",
    "        \n",
    "    def forward(self, x, hidden):\n",
    "        batch_size = x.size(0)\n",
    "        x = x.unsqueeze(1)        \n",
    "        lstm_out, hidden = self.lstm(x.double(), hidden)\n",
    "        \n",
    "        lstm_out = lstm_out.contiguous().view(-1, self.hidden_dim)\n",
    "        \n",
    "        out = self.dropout(lstm_out)\n",
    "        out = self.fc(out)\n",
    "        \n",
    "        sig_out = self.sig(out)\n",
    "        # reshape para o \"batch_first=True\"\n",
    "        sig_out = sig_out.view(batch_size, -1)\n",
    "        sig_out = sig_out[:, -1] # pega o último batch\n",
    "        \n",
    "        return sig_out, hidden                \n",
    "        \n",
    "    def init_hidden(self, batch_size, device):\n",
    "        '''Inicializa o hidden'''\n",
    "        # Cria dois tensors com tamanho n_layers x batch_size x hidden_dim,\n",
    "        # inicializados com zero, para o hidden e cell status do LSTM\n",
    "        h0 = torch.zeros((self.no_layers, batch_size, self.hidden_dim)).to(device)\n",
    "        c0 = torch.zeros((self.no_layers, batch_size, self.hidden_dim)).to(device)\n",
    "        hidden = (h0.double(), c0.double())\n",
    "        return hidden"
   ]
  },
  {
   "cell_type": "markdown",
   "id": "dd57ce7e-edac-44d1-8347-39c69eff6b5a",
   "metadata": {
    "tags": []
   },
   "source": [
    "As funções `loss_batch` e `valid_batch` são responsáveis por realizar as predições durante as etapas de treino e validação, respectivamente. A primeira efetua também a atualização dos gradientes/ pesos."
   ]
  },
  {
   "cell_type": "code",
   "execution_count": 23,
   "id": "5a371169-c20c-4311-8836-1c4442f7f361",
   "metadata": {
    "tags": []
   },
   "outputs": [],
   "source": [
    "def loss_batch(model, device, xb, yb, hidden, opt=None):\n",
    "    xb = xb.to(device)\n",
    "    yb = yb.to(device)\n",
    "    h = tuple([each.data for each in hidden])\n",
    "    output, h = model(xb, h)\n",
    "    loss = criterion(output, yb.double())\n",
    "\n",
    "    if opt is not None:\n",
    "        loss.backward()\n",
    "        opt.step()\n",
    "        opt.zero_grad()\n",
    "\n",
    "    return loss.item(), len(xb)\n",
    "\n",
    "def valid_batch(model, device, xb, yb, hidden):\n",
    "    xb = xb.to(device)\n",
    "    yb = yb.to(device)\n",
    "    h = tuple([each.data for each in hidden])\n",
    "    output, h = model(xb, h)\n",
    "    loss = criterion(output, yb.double())\n",
    "    correct = acc(output, yb)\n",
    "    \n",
    "    return loss.item(), correct, len(xb)"
   ]
  },
  {
   "cell_type": "markdown",
   "id": "d22a2d6b-d847-43d9-b601-c7cf79d1f531",
   "metadata": {
    "tags": []
   },
   "source": [
    "Através da função `fit` é que será realizado o treinamento do modelo, através de um loop a ser executado por `epochs` vezes."
   ]
  },
  {
   "cell_type": "code",
   "execution_count": 24,
   "id": "5490e31f-c5ca-4afb-b6de-69d4b4ed53ac",
   "metadata": {
    "tags": []
   },
   "outputs": [],
   "source": [
    "def fit(model, opt, epochs, train_dl, test_dl, device):\n",
    "    scheduler = None\n",
    "    if opt is not None:\n",
    "        scheduler = optim.lr_scheduler.StepLR(opt, step_size=2, gamma=0.5)\n",
    "        \n",
    "    for epoch in range(epochs):\n",
    "        print(f'Iniciando época {epoch + 1}/{epochs}')\n",
    "        model.train()\n",
    "        hidden = model.init_hidden(train_dl.batch_size, device)\n",
    "        losses, nums = zip(\n",
    "            *[loss_batch(model, device, xb, yb, hidden, opt) for xb, yb in train_dl])\n",
    "        train_loss = np.sum(np.multiply(losses, nums)) / np.sum(nums)\n",
    "            \n",
    "        model.eval()\n",
    "        with torch.no_grad():\n",
    "            hidden = model.init_hidden(test_dl.batch_size, device)\n",
    "            losses, corrects, nums = zip(\n",
    "                *[valid_batch(model, device, xb, yb, hidden) for xb, yb in test_dl])\n",
    "            test_loss = np.sum(np.multiply(losses, nums)) / np.sum(nums)\n",
    "            test_accuracy = np.sum(corrects) / np.sum(nums) * 100\n",
    "            print(f'- Train loss: {train_loss:.6f}\\t',\n",
    "                  f'Test loss: {test_loss:.6f}\\t',\n",
    "                  f'Test accuracy: {test_accuracy:.3f}%')\n",
    "        \n",
    "        if opt is None:\n",
    "            print('Não há otimizador para este modelo. Loop de épocas será interrompido.')\n",
    "            return model\n",
    "        \n",
    "        scheduler.step()    \n",
    "    \n",
    "    return model"
   ]
  },
  {
   "cell_type": "code",
   "execution_count": 25,
   "id": "8878a177-45f9-4ce0-bb42-61d7318d1a78",
   "metadata": {
    "tags": []
   },
   "outputs": [
    {
     "name": "stdout",
     "output_type": "stream",
     "text": [
      "Iniciando época 1/2\n",
      "- Train loss: 0.655113\t Test loss: 0.528081\t Test accuracy: 83.280%\n",
      "Iniciando época 2/2\n",
      "- Train loss: 0.357720\t Test loss: 0.293522\t Test accuracy: 88.080%\n"
     ]
    }
   ],
   "source": [
    "lr = 0.001\n",
    "epochs = 2\n",
    "dropout = 0.5\n",
    "\n",
    "model = LSTM(2, 256, input_size, output_size, dropout)\n",
    "model = model.to(device)\n",
    "#necessário para 'uniformizar' o tratamento dos números de ponto flutuante \n",
    "#ao utilizar placa de video (device = cuda)\n",
    "model.double()\n",
    "criterion = nn.BCELoss()\n",
    "opt = optim.Adam(model.parameters(), lr=lr)\n",
    "\n",
    "model_novo = fit(model, opt, epochs, train_dl, test_dl, device)"
   ]
  },
  {
   "cell_type": "markdown",
   "id": "6afe3035-981f-424a-b5a2-7c7f1ac5dfd5",
   "metadata": {
    "tags": []
   },
   "source": [
    "Após retreinar o modelo algumas vezes e com parâmetros diferentes, observei que o melhor resultado (menor test loss e melhor test accuracy) ocorriam entre o primeiro e o segundo loop. Dali em diante o train loss continuava reduzindo, porém o test loss subia, indicando _overfitting_ no conjunto de treino."
   ]
  },
  {
   "cell_type": "markdown",
   "id": "082b988e-14cf-4ea4-af56-cf504cacdd50",
   "metadata": {},
   "source": [
    "# Aplicação do modelo no conjunto de validação\n",
    "\n",
    "Uma vez treinado o modelo, o mesmo será submetido ao conjunto de validação. Para isto, as mesmas etapas de pré-processamento junto ao texto serão aplicadas, tornando o _input_ apropriado ao modelo."
   ]
  },
  {
   "cell_type": "code",
   "execution_count": 26,
   "id": "e11b5588-b872-47a5-aec2-608742a69374",
   "metadata": {},
   "outputs": [
    {
     "name": "stdout",
     "output_type": "stream",
     "text": [
      "5000 documentos normalizados\n",
      "10000 documentos normalizados\n",
      "15000 documentos normalizados\n",
      "20000 documentos normalizados\n",
      "25000 documentos normalizados\n"
     ]
    }
   ],
   "source": [
    "#pré-processamento do texto\n",
    "df_test_normalized = normalize_df(df_test, remove_punc=True)"
   ]
  },
  {
   "cell_type": "code",
   "execution_count": 27,
   "id": "98f86770-3932-47a4-8972-176b18650e2b",
   "metadata": {},
   "outputs": [],
   "source": [
    "#transformação do texto e variável predita\n",
    "Xn, yn = df_test_normalized['review'], df_test_normalized['sentiment']\n",
    "valid_review_tf = tfidf_vectorizer.transform(Xn.to_numpy()).toarray()\n",
    "valid_yn_le = le.transform(yn)"
   ]
  },
  {
   "cell_type": "code",
   "execution_count": 28,
   "id": "410cbef7-0904-44bb-b498-f5ec06dea998",
   "metadata": {},
   "outputs": [],
   "source": [
    "#criação do DataLoader\n",
    "Xn, yn = map(\n",
    "    torch.tensor, (valid_review_tf, valid_yn_le)\n",
    ")\n",
    "\n",
    "valid_ds = TensorDataset(Xn, yn)\n",
    "valid_dl = DataLoader(valid_ds, batch_size=500)"
   ]
  },
  {
   "cell_type": "code",
   "execution_count": 29,
   "id": "f8443b2a-d9d8-40b7-b5ba-7948afcaf31d",
   "metadata": {},
   "outputs": [],
   "source": [
    "def validate_model(model, data_loader):\n",
    "    '''Function to run the model with de validation dataset.'''\n",
    "    model.cuda()\n",
    "    model.eval()\n",
    "    \n",
    "    with torch.no_grad():\n",
    "        hidden = model.init_hidden(data_loader.batch_size, 'cuda')\n",
    "        losses, corrects, nums = zip(\n",
    "                *[valid_batch(model, device, xb, yb, hidden) for xb, yb in test_dl])\n",
    "        valid_loss = np.sum(np.multiply(losses, nums)) / np.sum(nums)\n",
    "        valid_acc = np.sum(corrects) / np.sum(nums) * 100\n",
    "        return valid_loss, valid_acc"
   ]
  },
  {
   "cell_type": "code",
   "execution_count": 30,
   "id": "dd7b4b93-c3d0-44e0-985f-e53c6b74a5e0",
   "metadata": {},
   "outputs": [
    {
     "name": "stdout",
     "output_type": "stream",
     "text": [
      "Resultado da execução do modelo no conjunto de validação:\n",
      " \tLoss: 0.29352208110365147\n",
      " \tAcurácia: 88.08%\n"
     ]
    }
   ],
   "source": [
    "valid_loss, valid_acc = validate_model(model_novo, valid_dl)\n",
    "print('Resultado da execução do modelo no conjunto de validação:\\n',\n",
    "      f'\\tLoss: {valid_loss}\\n',\n",
    "      f'\\tAcurácia: {valid_acc:.2f}%')"
   ]
  },
  {
   "cell_type": "markdown",
   "id": "e4b1d719-2796-4dc9-a0aa-9b0981e96a65",
   "metadata": {},
   "source": [
    "Com isto, observamos que o modelo retornou um resultado sustentável em relação ao período de treino. Ou seja, o modelo foi capaz de generalizar o conjunto de dados."
   ]
  },
  {
   "cell_type": "markdown",
   "id": "fbf40e2f-8541-486b-a896-0838a573d53e",
   "metadata": {},
   "source": [
    "# Exportação do modelo\n",
    "\n",
    "A exportação do modelo contará com as seguintes etapas:\n",
    "- Salvar o modelo treinado\n",
    "- Salvar o vetorizador (transformador de 'texto' em palavras)\n",
    "- Salvar o encoder (tradução das labels da variável predita `sentiment` em categorias)"
   ]
  },
  {
   "cell_type": "code",
   "execution_count": 33,
   "id": "2f61d191-4525-4c99-81e7-5536b74e6df9",
   "metadata": {},
   "outputs": [],
   "source": [
    "model_filepath = 'modelo.pth'\n",
    "torch.save(model_novo, model_filepath)\n",
    "tfidf_filepath = 'tfidf.pickle'\n",
    "torch.save(tfidf_vectorizer, tfidf_filepath)\n",
    "encoder_filepath = 'encoder.pickle'\n",
    "torch.save(le, encoder_filepath)"
   ]
  },
  {
   "cell_type": "markdown",
   "id": "01e253aa-ebe7-43c0-9442-f4d519c8624b",
   "metadata": {},
   "source": [
    "# Importação do modelo e utilização em um ambiente simulado de produção"
   ]
  },
  {
   "cell_type": "markdown",
   "id": "1874204e-36b3-4533-b692-1cc5ab004381",
   "metadata": {},
   "source": [
    "Após exportar o modelo, utilizaremos o mesmo num ambiente de produção simulado.\n",
    "Para isto, foi criada a classe ``ModeloProducao``, que possui uma função ``predict`` que recebe o texto do _review_ a ser classificado e retorna uma descrição amigável da classificação ([positivo|negativo]) e a probabilidade da mesma.\n",
    "\n",
    "**IMPORTANTE**: PARA QUE A IMPORTAÇÃO DO MODELO FUNCIONE CORRETAMENTE, ALÉM DO PRÓPRIO MODELO SALVO (EM FORMATO.pth) É NECESSÁRIA A EXECUÇÃO DA CÉLULA QUE DEFINE A CLASSE ``LSTM``, QUE É A BASE DO MODELO. OU SEJA, CASO DESEJA-SE UTILIZAR ESTE MODELO NUM AMBIENTE 'NOVO', DEVE-SE EXPORTAR E EXECUTAR A CÉLULA QUE CONTÉM A DEFINIÇÃO D CLASSE ``LSTM``."
   ]
  },
  {
   "cell_type": "code",
   "execution_count": 34,
   "id": "f91d319e-3d26-445c-893a-e4b3f423659b",
   "metadata": {},
   "outputs": [],
   "source": [
    "class ModeloProducao():\n",
    "    \n",
    "    def __init__(self, model_path, tfidf_path, encoder_filepath):\n",
    "        self.model = torch.load(model_path)\n",
    "        self.model.cpu()\n",
    "        self.hidden = self.model.init_hidden(1, 'cpu')\n",
    "        self.hidden = tuple([each.data.to('cpu') for each in self.hidden])\n",
    "        \n",
    "        self.tfidf_vectorizer = torch.load(tfidf_path)\n",
    "        \n",
    "        self.label_encoder = torch.load(encoder_filepath)\n",
    "    \n",
    "    def predict(self, input_text: str):\n",
    "        self.model.eval()\n",
    "        tf_input = self.tfidf_vectorizer.transform(np.array([input_text])).toarray()\n",
    "        ts_input = torch.tensor(tf_input).to('cpu')\n",
    "        with torch.no_grad():\n",
    "            output, h = self.model(ts_input, self.hidden)\n",
    "            return self.decode_label(output)\n",
    "        \n",
    "    def decode_label(self, input):\n",
    "        out = self.label_encoder.inverse_transform(\n",
    "           [np.array(torch.round(input.squeeze())).astype(int)] \n",
    "        )[0]\n",
    "        \n",
    "        pretty_desc = 'positivo'\n",
    "        proba = input[0] * 100\n",
    "        if out == 'neg':\n",
    "            proba = (1 - input[0]) * 100\n",
    "            pretty_desc = 'negativo'\n",
    "            \n",
    "        return pretty_desc, proba\n",
    "\n",
    "modelo_producao = ModeloProducao(model_filepath, tfidf_filepath, encoder_filepath)"
   ]
  },
  {
   "cell_type": "code",
   "execution_count": 35,
   "id": "2ec3f41e-0652-47ef-b161-8c03014c2417",
   "metadata": {},
   "outputs": [
    {
     "name": "stdout",
     "output_type": "stream",
     "text": [
      "Há 85.75% de probabilidade do review acima ser positivo\n"
     ]
    }
   ],
   "source": [
    "good_review = \"It's the best movie I've ever seen!\"\n",
    "review_classification, proba = modelo_producao.predict(good_review)\n",
    "print(f'Há {proba:.2f}% de probabilidade do review acima ser {review_classification}')"
   ]
  },
  {
   "cell_type": "code",
   "execution_count": 36,
   "id": "f4c6affa-92d8-43fa-af67-6ea34b8b4a0e",
   "metadata": {},
   "outputs": [
    {
     "name": "stdout",
     "output_type": "stream",
     "text": [
      "Há 85.71% de probabilidade do review acima ser negativo\n"
     ]
    }
   ],
   "source": [
    "bad_review = \"It's the worst movie I've ever seen!\"\n",
    "review_classification, proba = modelo_producao.predict(bad_review)\n",
    "print(f'Há {proba:.2f}% de probabilidade do review acima ser {review_classification}')"
   ]
  }
 ],
 "metadata": {
  "kernelspec": {
   "display_name": "Python 3",
   "language": "python",
   "name": "python3"
  },
  "language_info": {
   "codemirror_mode": {
    "name": "ipython",
    "version": 3
   },
   "file_extension": ".py",
   "mimetype": "text/x-python",
   "name": "python",
   "nbconvert_exporter": "python",
   "pygments_lexer": "ipython3",
   "version": "3.8.8"
  }
 },
 "nbformat": 4,
 "nbformat_minor": 5
}
